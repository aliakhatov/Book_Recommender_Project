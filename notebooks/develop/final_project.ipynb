{
 "cells": [
  {
   "cell_type": "code",
   "execution_count": 5,
   "id": "e7da48e3",
   "metadata": {
    "ExecuteTime": {
     "end_time": "2022-05-31T13:03:10.150287Z",
     "start_time": "2022-05-31T13:03:10.147790Z"
    }
   },
   "outputs": [],
   "source": [
    "import os\n",
    "import pandas as pd\n",
    "import numpy as np\n",
    "from scipy import spatial"
   ]
  },
  {
   "cell_type": "markdown",
   "id": "eef20f1b",
   "metadata": {},
   "source": [
    "# Reading data"
   ]
  },
  {
   "cell_type": "code",
   "execution_count": 6,
   "id": "7b7ef554",
   "metadata": {
    "ExecuteTime": {
     "end_time": "2022-05-31T13:03:12.623203Z",
     "start_time": "2022-05-31T13:03:10.498211Z"
    }
   },
   "outputs": [
    {
     "name": "stderr",
     "output_type": "stream",
     "text": [
      "/usr/local/anaconda3/lib/python3.9/site-packages/IPython/core/interactiveshell.py:3444: FutureWarning: The error_bad_lines argument has been deprecated and will be removed in a future version.\n",
      "\n",
      "\n",
      "  exec(code_obj, self.user_global_ns, self.user_ns)\n",
      "b'Skipping line 43667: expected 8 fields, saw 10\\nSkipping line 51751: expected 8 fields, saw 9\\n'\n",
      "b'Skipping line 92038: expected 8 fields, saw 9\\nSkipping line 104319: expected 8 fields, saw 9\\nSkipping line 121768: expected 8 fields, saw 9\\n'\n",
      "b'Skipping line 144058: expected 8 fields, saw 9\\nSkipping line 150789: expected 8 fields, saw 9\\nSkipping line 157128: expected 8 fields, saw 9\\nSkipping line 180189: expected 8 fields, saw 9\\nSkipping line 185738: expected 8 fields, saw 9\\n'\n",
      "b'Skipping line 209388: expected 8 fields, saw 9\\nSkipping line 220626: expected 8 fields, saw 9\\nSkipping line 227933: expected 8 fields, saw 11\\nSkipping line 228957: expected 8 fields, saw 10\\nSkipping line 245933: expected 8 fields, saw 9\\nSkipping line 251296: expected 8 fields, saw 9\\nSkipping line 259941: expected 8 fields, saw 9\\nSkipping line 261529: expected 8 fields, saw 9\\n'\n",
      "/usr/local/anaconda3/lib/python3.9/site-packages/IPython/core/interactiveshell.py:3444: DtypeWarning: Columns (3) have mixed types.Specify dtype option on import or set low_memory=False.\n",
      "  exec(code_obj, self.user_global_ns, self.user_ns)\n"
     ]
    }
   ],
   "source": [
    "rating_data = pd.read_csv(\"\", encoding='utf-8', delimiter=\";\")\n",
    "books_data = pd.read_csv(\"\", delimiter=\";\", encoding='utf-8', error_bad_lines=False)\n",
    "users = pd.read_csv(\"\", delimiter=\";\")"
   ]
  },
  {
   "cell_type": "markdown",
   "id": "acbbac3b",
   "metadata": {},
   "source": [
    "# Preprocess"
   ]
  },
  {
   "cell_type": "code",
   "execution_count": 38,
   "id": "5fc04283",
   "metadata": {
    "ExecuteTime": {
     "end_time": "2022-05-31T13:17:50.284338Z",
     "start_time": "2022-05-31T13:17:49.510618Z"
    }
   },
   "outputs": [],
   "source": [
    "# renaming \n",
    "books_data.rename(columns={'ISBN':'isbn',\n",
    "                           'Book-Title':'title',\n",
    "                           'Book-Author':'author',\n",
    "                           'Year-Of-Publication':'year',\n",
    "                           'Publisher':'publisher',\n",
    "                           'Image-URL-S':'image_s',\n",
    "                           'Image-URL-M':'image_m',\n",
    "                           'Image-URL-L':'image_l'},\n",
    "                  inplace=True) \n",
    "rating_data.rename(columns={'User-ID':'uid', \n",
    "                            'ISBN':'isbn', \n",
    "                            'Book-Rating':'rating'},\n",
    "                  inplace=True)\n",
    "\n",
    "users.rename(columns={'User-ID':'uid', \n",
    "                      'Location':'location', \n",
    "                      'Age':'age'},\n",
    "            inplace=True)\n",
    "# selecting only users who looked at more than 150 books\n",
    "top_users = rating_data['uid'].value_counts() >= 150\n",
    "top_users_index = top_users[top_users].index\n",
    "\n",
    "# selecting all the user ratings who looked at more than 150 books\n",
    "selected_ratings = rating_data[rating_data['uid'].isin(top_users_index)]\n",
    "final_df = selected_ratings.merge(books_data, on = \"isbn\", how = \"inner\", sort=False)"
   ]
  },
  {
   "cell_type": "code",
   "execution_count": 8,
   "id": "a71802c6",
   "metadata": {
    "ExecuteTime": {
     "end_time": "2022-05-31T13:03:14.277703Z",
     "start_time": "2022-05-31T13:03:13.369265Z"
    }
   },
   "outputs": [
    {
     "data": {
      "text/plain": [
       "(76070, 11)"
      ]
     },
     "execution_count": 8,
     "metadata": {},
     "output_type": "execute_result"
    }
   ],
   "source": [
    "# counting number ratings each book has\n",
    "rating_count = final_df.groupby('title')['rating'].count().reset_index() \n",
    "\n",
    "# merging datasets to have counts\n",
    "final_df = final_df.merge(rating_count, on='title')\n",
    "final_df.rename(columns={'rating_y':'rating_count',\n",
    "                        'rating_x':'rating'}, inplace = True)\n",
    "\n",
    "# select only books which have count of more than 50\n",
    "final_df = final_df[final_df['rating_count'] >= 50]\n",
    "\n",
    "# dropping duplicates\n",
    "final_df.drop_duplicates(['uid','title'],inplace=True)\n",
    "final_df.shape"
   ]
  },
  {
   "cell_type": "markdown",
   "id": "fffbfd22",
   "metadata": {},
   "source": [
    "# Pivot transformation"
   ]
  },
  {
   "cell_type": "code",
   "execution_count": 11,
   "id": "45e3d739",
   "metadata": {
    "ExecuteTime": {
     "end_time": "2022-05-31T13:06:32.667626Z",
     "start_time": "2022-05-31T13:06:32.532587Z"
    }
   },
   "outputs": [
    {
     "data": {
      "text/html": [
       "<div>\n",
       "<style scoped>\n",
       "    .dataframe tbody tr th:only-of-type {\n",
       "        vertical-align: middle;\n",
       "    }\n",
       "\n",
       "    .dataframe tbody tr th {\n",
       "        vertical-align: top;\n",
       "    }\n",
       "\n",
       "    .dataframe thead th {\n",
       "        text-align: right;\n",
       "    }\n",
       "</style>\n",
       "<table border=\"1\" class=\"dataframe\">\n",
       "  <thead>\n",
       "    <tr style=\"text-align: right;\">\n",
       "      <th>uid</th>\n",
       "      <th>254</th>\n",
       "      <th>1733</th>\n",
       "      <th>1903</th>\n",
       "      <th>2033</th>\n",
       "      <th>2110</th>\n",
       "      <th>2276</th>\n",
       "      <th>2766</th>\n",
       "      <th>2891</th>\n",
       "      <th>2977</th>\n",
       "      <th>3363</th>\n",
       "      <th>...</th>\n",
       "      <th>274308</th>\n",
       "      <th>274808</th>\n",
       "      <th>275970</th>\n",
       "      <th>276018</th>\n",
       "      <th>276680</th>\n",
       "      <th>277427</th>\n",
       "      <th>277478</th>\n",
       "      <th>277639</th>\n",
       "      <th>278188</th>\n",
       "      <th>278418</th>\n",
       "    </tr>\n",
       "    <tr>\n",
       "      <th>title</th>\n",
       "      <th></th>\n",
       "      <th></th>\n",
       "      <th></th>\n",
       "      <th></th>\n",
       "      <th></th>\n",
       "      <th></th>\n",
       "      <th></th>\n",
       "      <th></th>\n",
       "      <th></th>\n",
       "      <th></th>\n",
       "      <th></th>\n",
       "      <th></th>\n",
       "      <th></th>\n",
       "      <th></th>\n",
       "      <th></th>\n",
       "      <th></th>\n",
       "      <th></th>\n",
       "      <th></th>\n",
       "      <th></th>\n",
       "      <th></th>\n",
       "      <th></th>\n",
       "    </tr>\n",
       "  </thead>\n",
       "  <tbody>\n",
       "    <tr>\n",
       "      <th>1984</th>\n",
       "      <td>9.0</td>\n",
       "      <td>0.0</td>\n",
       "      <td>0.0</td>\n",
       "      <td>0.0</td>\n",
       "      <td>0.0</td>\n",
       "      <td>0.0</td>\n",
       "      <td>0.0</td>\n",
       "      <td>0.0</td>\n",
       "      <td>0.0</td>\n",
       "      <td>0.0</td>\n",
       "      <td>...</td>\n",
       "      <td>0.0</td>\n",
       "      <td>0.0</td>\n",
       "      <td>0.0</td>\n",
       "      <td>0.0</td>\n",
       "      <td>0.0</td>\n",
       "      <td>0.0</td>\n",
       "      <td>0.0</td>\n",
       "      <td>0.0</td>\n",
       "      <td>0.0</td>\n",
       "      <td>0.0</td>\n",
       "    </tr>\n",
       "    <tr>\n",
       "      <th>1st to Die: A Novel</th>\n",
       "      <td>0.0</td>\n",
       "      <td>0.0</td>\n",
       "      <td>0.0</td>\n",
       "      <td>0.0</td>\n",
       "      <td>0.0</td>\n",
       "      <td>0.0</td>\n",
       "      <td>0.0</td>\n",
       "      <td>0.0</td>\n",
       "      <td>0.0</td>\n",
       "      <td>0.0</td>\n",
       "      <td>...</td>\n",
       "      <td>0.0</td>\n",
       "      <td>0.0</td>\n",
       "      <td>0.0</td>\n",
       "      <td>0.0</td>\n",
       "      <td>0.0</td>\n",
       "      <td>0.0</td>\n",
       "      <td>0.0</td>\n",
       "      <td>0.0</td>\n",
       "      <td>0.0</td>\n",
       "      <td>0.0</td>\n",
       "    </tr>\n",
       "    <tr>\n",
       "      <th>2nd Chance</th>\n",
       "      <td>0.0</td>\n",
       "      <td>0.0</td>\n",
       "      <td>0.0</td>\n",
       "      <td>0.0</td>\n",
       "      <td>0.0</td>\n",
       "      <td>10.0</td>\n",
       "      <td>0.0</td>\n",
       "      <td>0.0</td>\n",
       "      <td>0.0</td>\n",
       "      <td>0.0</td>\n",
       "      <td>...</td>\n",
       "      <td>0.0</td>\n",
       "      <td>0.0</td>\n",
       "      <td>0.0</td>\n",
       "      <td>0.0</td>\n",
       "      <td>0.0</td>\n",
       "      <td>0.0</td>\n",
       "      <td>0.0</td>\n",
       "      <td>0.0</td>\n",
       "      <td>0.0</td>\n",
       "      <td>0.0</td>\n",
       "    </tr>\n",
       "    <tr>\n",
       "      <th>4 Blondes</th>\n",
       "      <td>0.0</td>\n",
       "      <td>0.0</td>\n",
       "      <td>0.0</td>\n",
       "      <td>0.0</td>\n",
       "      <td>0.0</td>\n",
       "      <td>0.0</td>\n",
       "      <td>0.0</td>\n",
       "      <td>0.0</td>\n",
       "      <td>0.0</td>\n",
       "      <td>0.0</td>\n",
       "      <td>...</td>\n",
       "      <td>0.0</td>\n",
       "      <td>0.0</td>\n",
       "      <td>0.0</td>\n",
       "      <td>0.0</td>\n",
       "      <td>0.0</td>\n",
       "      <td>0.0</td>\n",
       "      <td>0.0</td>\n",
       "      <td>0.0</td>\n",
       "      <td>0.0</td>\n",
       "      <td>0.0</td>\n",
       "    </tr>\n",
       "    <tr>\n",
       "      <th>84 Charing Cross Road</th>\n",
       "      <td>0.0</td>\n",
       "      <td>0.0</td>\n",
       "      <td>0.0</td>\n",
       "      <td>0.0</td>\n",
       "      <td>0.0</td>\n",
       "      <td>0.0</td>\n",
       "      <td>0.0</td>\n",
       "      <td>0.0</td>\n",
       "      <td>0.0</td>\n",
       "      <td>0.0</td>\n",
       "      <td>...</td>\n",
       "      <td>0.0</td>\n",
       "      <td>0.0</td>\n",
       "      <td>10.0</td>\n",
       "      <td>0.0</td>\n",
       "      <td>0.0</td>\n",
       "      <td>0.0</td>\n",
       "      <td>0.0</td>\n",
       "      <td>0.0</td>\n",
       "      <td>0.0</td>\n",
       "      <td>0.0</td>\n",
       "    </tr>\n",
       "  </tbody>\n",
       "</table>\n",
       "<p>5 rows × 1217 columns</p>\n",
       "</div>"
      ],
      "text/plain": [
       "uid                    254     1733    1903    2033    2110    2276    2766    \\\n",
       "title                                                                           \n",
       "1984                      9.0     0.0     0.0     0.0     0.0     0.0     0.0   \n",
       "1st to Die: A Novel       0.0     0.0     0.0     0.0     0.0     0.0     0.0   \n",
       "2nd Chance                0.0     0.0     0.0     0.0     0.0    10.0     0.0   \n",
       "4 Blondes                 0.0     0.0     0.0     0.0     0.0     0.0     0.0   \n",
       "84 Charing Cross Road     0.0     0.0     0.0     0.0     0.0     0.0     0.0   \n",
       "\n",
       "uid                    2891    2977    3363    ...  274308  274808  275970  \\\n",
       "title                                          ...                           \n",
       "1984                      0.0     0.0     0.0  ...     0.0     0.0     0.0   \n",
       "1st to Die: A Novel       0.0     0.0     0.0  ...     0.0     0.0     0.0   \n",
       "2nd Chance                0.0     0.0     0.0  ...     0.0     0.0     0.0   \n",
       "4 Blondes                 0.0     0.0     0.0  ...     0.0     0.0     0.0   \n",
       "84 Charing Cross Road     0.0     0.0     0.0  ...     0.0     0.0    10.0   \n",
       "\n",
       "uid                    276018  276680  277427  277478  277639  278188  278418  \n",
       "title                                                                          \n",
       "1984                      0.0     0.0     0.0     0.0     0.0     0.0     0.0  \n",
       "1st to Die: A Novel       0.0     0.0     0.0     0.0     0.0     0.0     0.0  \n",
       "2nd Chance                0.0     0.0     0.0     0.0     0.0     0.0     0.0  \n",
       "4 Blondes                 0.0     0.0     0.0     0.0     0.0     0.0     0.0  \n",
       "84 Charing Cross Road     0.0     0.0     0.0     0.0     0.0     0.0     0.0  \n",
       "\n",
       "[5 rows x 1217 columns]"
      ]
     },
     "execution_count": 11,
     "metadata": {},
     "output_type": "execute_result"
    }
   ],
   "source": [
    "book_matrix = final_df.pivot_table(columns='uid', index='title', values='rating')\n",
    "book_matrix.fillna(0,inplace=True)\n",
    "book_matrix.head()"
   ]
  },
  {
   "cell_type": "markdown",
   "id": "f43a1bdd",
   "metadata": {},
   "source": [
    "# Model building"
   ]
  },
  {
   "cell_type": "code",
   "execution_count": 42,
   "id": "39387072",
   "metadata": {
    "ExecuteTime": {
     "end_time": "2022-05-25T04:04:53.328627Z",
     "start_time": "2022-05-25T04:04:53.297505Z"
    }
   },
   "outputs": [],
   "source": [
    "from scipy.sparse import csr_matrix\n",
    "book_sparse = csr_matrix(book_matrix)"
   ]
  },
  {
   "cell_type": "code",
   "execution_count": 43,
   "id": "e3b49e37",
   "metadata": {
    "ExecuteTime": {
     "end_time": "2022-05-25T04:04:54.847285Z",
     "start_time": "2022-05-25T04:04:53.955403Z"
    }
   },
   "outputs": [
    {
     "data": {
      "text/plain": [
       "NearestNeighbors(algorithm='brute')"
      ]
     },
     "execution_count": 43,
     "metadata": {},
     "output_type": "execute_result"
    }
   ],
   "source": [
    "from sklearn.neighbors import NearestNeighbors\n",
    "model = NearestNeighbors(algorithm='brute', n_neighbors=5) ## model\n",
    "model.fit(book_sparse)"
   ]
  },
  {
   "cell_type": "code",
   "execution_count": null,
   "id": "a1697626",
   "metadata": {
    "ExecuteTime": {
     "end_time": "2022-05-24T04:13:24.698732Z",
     "start_time": "2022-05-24T04:13:24.693069Z"
    }
   },
   "outputs": [],
   "source": [
    "# selecting random book \n",
    "n = np.random.choice(book_matrix.shape[0])\n",
    "print(\"n:\", n)\n",
    "pd.DataFrame(book_matrix.iloc[n, :]).columns"
   ]
  },
  {
   "cell_type": "code",
   "execution_count": null,
   "id": "dc69c1ee",
   "metadata": {
    "ExecuteTime": {
     "end_time": "2022-05-24T04:13:24.763659Z",
     "start_time": "2022-05-24T04:13:24.759465Z"
    }
   },
   "outputs": [],
   "source": [
    "#The Two Towers (The Lord of the Rings, Part 2)\n",
    "book_matrix[book_matrix.index == \"Harry Potter and the Sorcerer's Stone (Book 1)\"].values"
   ]
  },
  {
   "cell_type": "code",
   "execution_count": null,
   "id": "df53b03e",
   "metadata": {
    "ExecuteTime": {
     "end_time": "2022-05-24T04:13:24.847496Z",
     "start_time": "2022-05-24T04:13:24.845206Z"
    }
   },
   "outputs": [],
   "source": [
    "# this comes from the flask app \n",
    "user_titles = [\"Harry Potter and the Sorcerer's Stone (Book 1)\", 'The Notebook', 'The Secret Garden']"
   ]
  },
  {
   "cell_type": "markdown",
   "id": "8dda81be",
   "metadata": {},
   "source": [
    "# Recommendations"
   ]
  },
  {
   "cell_type": "code",
   "execution_count": null,
   "id": "c9550a51",
   "metadata": {
    "ExecuteTime": {
     "end_time": "2022-05-21T16:26:14.826498Z",
     "start_time": "2022-05-21T16:26:14.817321Z"
    }
   },
   "outputs": [],
   "source": [
    "# distances, suggestions = model.kneighbors(book_pivot[book_pivot.index == \"The Two Towers (The Lord of the Rings, Part 2)\"].values.reshape(1, -1))\n",
    "# \"The Secret Garden\"\n",
    "def recommend(book_pivot, title):\n",
    "    \n",
    "    suggestions = model.kneighbors(book_pivot[book_pivot.index == title]\\\n",
    "                                              .values.reshape(1, -1), return_distance=False)\n",
    "    suggestions = suggestions[0][1:]\n",
    "    rec_list = book_pivot.index[suggestions]\n",
    "    return rec_list.tolist()\n",
    "\n",
    "recommended_list = [recommend(book_matrix, a_title) for a_title in user_titles]\n",
    "recommended_list = list(np.concatenate(recommended_list))\n"
   ]
  },
  {
   "cell_type": "code",
   "execution_count": null,
   "id": "9c79b368",
   "metadata": {
    "ExecuteTime": {
     "end_time": "2022-05-21T16:30:55.227184Z",
     "start_time": "2022-05-21T16:30:55.159915Z"
    },
    "scrolled": true
   },
   "outputs": [],
   "source": [
    "# top_10 = ['The Notebook', 'Circle of Friends', 'Rebecca','The Secret Garden',\n",
    "#           'The Two Towers (The Lord of the Rings, Part 2)', 'Interview with the Vampire',\n",
    "#           'Jurassic Park', 'The Secret Life of Bees', \"Harry Potter and the Sorcerer's Stone (Book 1)\",\n",
    "#           'Scarlet Feather']\n",
    "\n",
    "url_list = []\n",
    "for book_title in recommended_list:\n",
    "    book_image = final_df[final_df['title'] == book_title][['image_l','author', 'year']].reset_index(drop=True)\n",
    "    url_list.append(book_image.iloc[0].to_dict())\n"
   ]
  },
  {
   "cell_type": "code",
   "execution_count": null,
   "id": "35826f8c",
   "metadata": {},
   "outputs": [],
   "source": []
  },
  {
   "cell_type": "code",
   "execution_count": null,
   "id": "95a75c20",
   "metadata": {},
   "outputs": [],
   "source": []
  }
 ],
 "metadata": {
  "kernelspec": {
   "display_name": "Python 3 (ipykernel)",
   "language": "python",
   "name": "python3"
  },
  "language_info": {
   "codemirror_mode": {
    "name": "ipython",
    "version": 3
   },
   "file_extension": ".py",
   "mimetype": "text/x-python",
   "name": "python",
   "nbconvert_exporter": "python",
   "pygments_lexer": "ipython3",
   "version": "3.9.7"
  },
  "toc": {
   "base_numbering": 1,
   "nav_menu": {},
   "number_sections": true,
   "sideBar": true,
   "skip_h1_title": false,
   "title_cell": "Table of Contents",
   "title_sidebar": "Contents",
   "toc_cell": false,
   "toc_position": {},
   "toc_section_display": true,
   "toc_window_display": false
  },
  "varInspector": {
   "cols": {
    "lenName": 16,
    "lenType": 16,
    "lenVar": 40
   },
   "kernels_config": {
    "python": {
     "delete_cmd_postfix": "",
     "delete_cmd_prefix": "del ",
     "library": "var_list.py",
     "varRefreshCmd": "print(var_dic_list())"
    },
    "r": {
     "delete_cmd_postfix": ") ",
     "delete_cmd_prefix": "rm(",
     "library": "var_list.r",
     "varRefreshCmd": "cat(var_dic_list()) "
    }
   },
   "types_to_exclude": [
    "module",
    "function",
    "builtin_function_or_method",
    "instance",
    "_Feature"
   ],
   "window_display": false
  }
 },
 "nbformat": 4,
 "nbformat_minor": 5
}
